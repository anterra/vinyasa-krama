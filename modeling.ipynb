{
 "metadata": {
  "language_info": {
   "codemirror_mode": {
    "name": "ipython",
    "version": 3
   },
   "file_extension": ".py",
   "mimetype": "text/x-python",
   "name": "python",
   "nbconvert_exporter": "python",
   "pygments_lexer": "ipython3",
   "version": "3.7.7-final"
  },
  "orig_nbformat": 2,
  "kernelspec": {
   "name": "tensorflow",
   "display_name": "tensorflow"
  }
 },
 "nbformat": 4,
 "nbformat_minor": 2,
 "cells": [
  {
   "cell_type": "markdown",
   "metadata": {},
   "source": [
    "# Imports"
   ]
  },
  {
   "cell_type": "code",
   "execution_count": 1,
   "metadata": {
    "tags": []
   },
   "outputs": [
    {
     "output_type": "stream",
     "name": "stderr",
     "text": "Using TensorFlow backend.\n"
    }
   ],
   "source": [
    "import pandas as pd\n",
    "import numpy as np\n",
    "import seaborn as sns\n",
    "import pickle\n",
    "import sklearn\n",
    "import gensim\n",
    "from gensim.models.keyedvectors import KeyedVectors\n",
    "from collections import Counter, defaultdict\n",
    "\n",
    "import tensorflow as tf\n",
    "KERAS_BACKEND=tf\n",
    "from tensorflow import keras\n",
    "from tensorflow.keras.utils import plot_model\n",
    "from tensorflow.keras.models import Model, Sequential, load_model\n",
    "from tensorflow.keras.layers import Dense, Activation, Dropout\n",
    "from tensorflow.keras.layers import Input, Embedding, Bidirectional, LSTM\n",
    "\n",
    "import keras\n",
    "from keras.utils import to_categorical\n",
    "from keras.preprocessing.text import Tokenizer\n",
    "from keras.preprocessing.sequence import pad_sequences"
   ]
  },
  {
   "cell_type": "code",
   "execution_count": 2,
   "metadata": {},
   "outputs": [
    {
     "output_type": "execute_result",
     "data": {
      "text/plain": "'2.3.0'"
     },
     "metadata": {},
     "execution_count": 2
    }
   ],
   "source": [
    "tf.__version__"
   ]
  },
  {
   "cell_type": "markdown",
   "metadata": {},
   "source": [
    "# Vinyasa Krama\n",
    "What follows is my development of the proof-of-concept prototype for an app called Vinyasa Krama, an app which generates complete, well-structured, safe and compelling yoga sequences, via a bi-directional LSTM. In this app, the user is able to pick a desired 'peak' pose -- this is generally the most difficult posture located in the middle of a yoga class, and a custom class will be generated for them which will proper warm them up for and cool them down from that pose, properly preparing the relevant muslces and joints. The class is hence generated from the middle out. They can then take the class, and follow along with an animated yoga teacher (created in the Unity game engine) who will demonstrate the class pose by pose. "
   ]
  },
  {
   "cell_type": "markdown",
   "metadata": {},
   "source": [
    "# Loading In Yoga Class Data\n",
    "\n",
    "Most of these DataFrames were scraped and created during my previous project, \"Yoga Class-ification\", with the exception of vinaysa_df and hatha_df, which I scraped to supplement my existent data to have a larger dataset. "
   ]
  },
  {
   "cell_type": "code",
   "execution_count": 2,
   "metadata": {},
   "outputs": [],
   "source": [
    "f = open(\"all_poses\", \"rb\")\n",
    "all_poses = pickle.load(f)\n",
    "f.close()\n",
    "\n",
    "f = open(\"flask_app_df\", \"rb\")\n",
    "poses_info = pickle.load(f)\n",
    "f.close()\n",
    "\n",
    "f = open(\"all_yoga_classes_df\", \"rb\")\n",
    "yoga_classes = pickle.load(f)\n",
    "f.close()\n",
    "\n",
    "f = open(\"vinyasa_df\", \"rb\")\n",
    "more_vinyasa = pickle.load(f)\n",
    "f.close()\n",
    "\n",
    "f = open(\"hatha_df\", \"rb\")\n",
    "more_hatha = pickle.load(f)\n",
    "f.close()"
   ]
  },
  {
   "cell_type": "markdown",
   "metadata": {},
   "source": [
    "### Combining DataFrames and Excluding Restorative Class Types\n",
    "I am excluding the classes that are of type \"gentle\", \"restorative\" and \"yin\", as these are very slow restorative/laying down type classes that I'm not aiming to create (yet) with this app. I want more dynamic, flow and exercise based classes to be generated, plus I have much more data availble in support of creating those types.\n",
    "\n",
    "Furthermore, I want the LSTM to have rather consistent classes it's being trained on so it can best understand the sequences. "
   ]
  },
  {
   "cell_type": "code",
   "execution_count": 3,
   "metadata": {},
   "outputs": [],
   "source": [
    "df = pd.concat([yoga_classes, more_vinyasa, more_hatha])\n",
    "df = df.loc[df[\"Class Type\"].isin([\"Vinyasa\", \"Hatha\", \"Power\", \"Iyengar\", \"Ashtanga\"])]\n",
    "df.reset_index(inplace=True)"
   ]
  },
  {
   "cell_type": "code",
   "execution_count": 4,
   "metadata": {},
   "outputs": [
    {
     "output_type": "execute_result",
     "data": {
      "text/plain": "   index                               Title  \\\n0      0    ←Slow Sunday Flow y Monday early   \n1      1                           ←Anahata    \n2      2                               ←CORE   \n3      3                                   ←   \n4      4  ←Vinyasa - Bench press & push up #   \n\n                                               Poses Class Type  \n0  [Easy Pose Hands To Heart, Easy Pose Hands Int...    Vinyasa  \n1  [Mantra Section, Thunderbolt Pose, Easy Pose B...    Vinyasa  \n2  [Classic Sun Salutation Variation F, Chair Pos...    Vinyasa  \n3  [Easy Pose, Easy Pose Warm Up Flow, Sun Saluta...    Vinyasa  \n4  [Corpse Pose, Corpse Pose Roll Under Spine, Wr...    Vinyasa  ",
      "text/html": "<div>\n<style scoped>\n    .dataframe tbody tr th:only-of-type {\n        vertical-align: middle;\n    }\n\n    .dataframe tbody tr th {\n        vertical-align: top;\n    }\n\n    .dataframe thead th {\n        text-align: right;\n    }\n</style>\n<table border=\"1\" class=\"dataframe\">\n  <thead>\n    <tr style=\"text-align: right;\">\n      <th></th>\n      <th>index</th>\n      <th>Title</th>\n      <th>Poses</th>\n      <th>Class Type</th>\n    </tr>\n  </thead>\n  <tbody>\n    <tr>\n      <th>0</th>\n      <td>0</td>\n      <td>←Slow Sunday Flow y Monday early</td>\n      <td>[Easy Pose Hands To Heart, Easy Pose Hands Int...</td>\n      <td>Vinyasa</td>\n    </tr>\n    <tr>\n      <th>1</th>\n      <td>1</td>\n      <td>←Anahata</td>\n      <td>[Mantra Section, Thunderbolt Pose, Easy Pose B...</td>\n      <td>Vinyasa</td>\n    </tr>\n    <tr>\n      <th>2</th>\n      <td>2</td>\n      <td>←CORE</td>\n      <td>[Classic Sun Salutation Variation F, Chair Pos...</td>\n      <td>Vinyasa</td>\n    </tr>\n    <tr>\n      <th>3</th>\n      <td>3</td>\n      <td>←</td>\n      <td>[Easy Pose, Easy Pose Warm Up Flow, Sun Saluta...</td>\n      <td>Vinyasa</td>\n    </tr>\n    <tr>\n      <th>4</th>\n      <td>4</td>\n      <td>←Vinyasa - Bench press &amp; push up #</td>\n      <td>[Corpse Pose, Corpse Pose Roll Under Spine, Wr...</td>\n      <td>Vinyasa</td>\n    </tr>\n  </tbody>\n</table>\n</div>"
     },
     "metadata": {},
     "execution_count": 4
    }
   ],
   "source": [
    "df.head()"
   ]
  },
  {
   "cell_type": "markdown",
   "metadata": {},
   "source": [
    "# Base Yoga Poses\n",
    "I am concatenating together all of the yoga classes into one long list of lists to be fed to a neural net.\n",
    "\n",
    "I am keeping these as lists, rather than one continuous string, because I want each individual pose to be a token -- if concatenating, NLP methods of tokenization would require I split on white space or some other arbitrary character, which would lose meaning. Instead, I am keeping each pose as an item inside a list, to preserve the meaning of the entire pose name (usually multiple words long) in each token. \n",
    "\n",
    "I am also reducing all of the 3600+ yoga pose variations down to their base poses. Many of the variations are not very distinct from one another, and for the sake of this MVP, the neural net will have richer context for fewer words seen more often, than thousands of different words -- it would not make sense to approach this problem that way, especially since the poses are in fact so similar. \n",
    "\n",
    "I, using industry knowledge, am adjusting from the 102 original base poses in my data, to include a few key variations which actually are distinct and represent different body movements. In this way I am not oversimplifying either. "
   ]
  },
  {
   "cell_type": "code",
   "execution_count": 5,
   "metadata": {},
   "outputs": [],
   "source": [
    "documents = [class_list for class_list in df[\"Poses\"]]"
   ]
  },
  {
   "cell_type": "code",
   "execution_count": 6,
   "metadata": {},
   "outputs": [],
   "source": [
    "base_poses = poses_info[[\"Pose Name\", \"Base Pose\"]]"
   ]
  },
  {
   "cell_type": "code",
   "execution_count": null,
   "metadata": {},
   "outputs": [],
   "source": [
    "# Commenting this out for readability but I manually looked at every pose in order to create the following...\n",
    "\n",
    "# pd.set_option(\"display.max_rows\", None)\n",
    "# base_poses"
   ]
  },
  {
   "cell_type": "code",
   "execution_count": 7,
   "metadata": {},
   "outputs": [],
   "source": [
    "changes = [([4, 17, 47, 50, 60], \"Cycling Pose\"),\n",
    "    ([19, 40, 41, 44, 46, 28, 54, 67, 68, 72], \"High Boat To Low Boat Flow\"),\n",
    "    ([64, 66, 69, 70], \"Low Boat Pose\"),\n",
    "    ([86], \"Staff Pose\"), \n",
    "    ([87, 88, 117, 118], \"Bound Angle Forward Bend\"), \n",
    "    ([125, 135, 136, 138, 140, 141], \"One Legged Bow Pose\"), \n",
    "    ([216, 217, 218, 219], \"Pigeon Pose\"), \n",
    "    ([233, 234, 235, 236, 237, 238, 239], \"Thunderbolt Pose\"), \n",
    "    ([248, 269, 270, 271, 274], \"Cow Pose\"), \n",
    "    ([259, 260, 261, 262, 263, 364, 265, 266, 267, 268, 272, 273, 275], \"Cat Pose\"),\n",
    "    ([291], \"Hurdlers Pose\"),\n",
    "    ([293, 337, 338, 339, 340, 341, 342, 343, 344, 345, 346, 372], \"Revolved Chair Pose\"), \n",
    "    ([300, 303, 306, 307, 308], \"Chair Pose With Airplane Arms\"),\n",
    "    ([365, 369, 370], \"Figure Four Pose\"), \n",
    "    ([368], \"Shiva Squat Pose\"), \n",
    "    ([520, 521], \"Supine Spinal Twist Pose\"), \n",
    "    ([587, 588], \"Flying Pigeon Pose\"), \n",
    "    ([594, 589], \"Side Crow Pose\"), \n",
    "    ([599], \"Baby Crow Pose\"), \n",
    "    ([663, 664, 665, 666, 667, 668], \"One Legged Mountain Pose\"), \n",
    "    ([687, 758], \"One Handed Downward Facing Dog Pose\"),\n",
    "    ([688, 689, 690, 759, 760], \"Standing Splits Pose\"), \n",
    "    ([691, 692, 693, 694, 724, 735, 736, 737, 761, 762, 763, 764], \"Three Legged Downward Facing Dog Pose\"), \n",
    "    ([700, 717], \"Downward Facing Dog Upward Facing Dog Pose Flow\"), \n",
    "    ([714], \"Downward Facing Dog Pose Plank Pose Flow\"), \n",
    "    ([715], \"Downward Facing Dog Pose Table Top Pose Flow\"), \n",
    "    ([747], \"Downward Facing Dog Pose Knee To Nose\"),\n",
    "    ([748], \"Downward Facing Dog Pose Shoulder Taps\"), \n",
    "    ([749], \"Downward Facing Dog Pose to Low Lunge Pose Flow\"), \n",
    "    ([865, 866, 867, 868, 869, 870, 871, 872, 873, 874, 875, 876, 877, 878, 879, 880, 881, 882, 883, 884, 885, 886, 887, 888, 889, 890, 891, 892, 893, 894, 895, 896, 897, 898, 899, 900, 901], \"Easy Pose\"), \n",
    "    ([924, 925, 926], \"\"), # this was \"cactus arms\", its a variation that won't make sense in most contexts. intentionally deleting this and will filter out empty strings upon generation. \n",
    "    ([998], \"Half Lotus Pose\"), \n",
    "    ([999], \"Lotus Pose\"), \n",
    "    ([1016, 1017], \"Eye Exercise\"), ([1055, 1056, 1057, 1058, 1061], \"Scorpion Pose\"), \n",
    "    ([1131, 1132, 1133, 1134, 1135, 1136, 1137, 1138, 1139, 1140, 1141, 1142, 1143, 1144, 1145, 1146, 1147, 1148, 1149, 1150, 1151], \"Chaturanga Dandasana\"),\n",
    "    ([1387], \"Headstand Pose Eagle Legs\"), \n",
    "    ([1390], \"Headstand Pose Lotus Legs\"), \n",
    "    ([1392], \"Headstand Pose Wide Legs\"), \n",
    "    ([1395, 1400, 1401, 1402, 1403, 1404, 1405, 1406, 1407], \"Tripod Headstand Pose\"), \n",
    "    ([1464, 1465, 1479, 1480, 1481, 1482], \"Revolved High Lunge Pose\"), \n",
    "    ([1466, 1467, 1468, 1469, 1483], \"Runners Lunge Pose\"), \n",
    "    ([1487, 1488, 1489, 1490, 1491, 1492, 1493, 1494, 1495, 1496, 1497, 1498, 1499, 1500, 1501, 1502, 1503, 1504, 1505, 1506, 1507, 1508, 1509, 1510, 1511, 1512, 1513, 1514, 1515, 1516, 1517, 1518, 1519, 1520, 1521, 1522, 1523, 1524, 1525, 1526, 1527, 1528, 1529, 1530, 1531, 1532, 1533], \"Wide Legged Forward Fold\"), \n",
    "    ([1487, 1509, 1510, 1511, 1512], \"Revolved Wide Legged Forward Fold\"),\n",
    "    ([1491, 1492, 1493, 1494, 1495, 1496, 1497, 1498], \"Wide Legged Forward Fold With Halfway Lift\"),\n",
    "    ([1489, 1490, 1527], \"Five Pointed Star Pose\"), \n",
    "    ([1508], \"Pyramid Pose\"), \n",
    "    ([1534, 1535, 1536, 1537, 1538, 1539, 1540, 1541, 1542, 1543, 1544, 1545, 1546, 1547, 1548, 1549, 1550, 1551, 1552, 1553, 1554, 1555, 1556, 1557, 1558, 1559, 1560, 1561, 1562, 1563, 1564, 1565, 1566], \"Pyramid Pose\"), \n",
    "    ([1584], \"Flying Lizard Pose\"), \n",
    "    ([1673, 1684, 1685, 1591, 1700, 1708, 1710, 1711, 1712], \"Revolved Low Lunge Pose\"),\n",
    "    ([1732, 1733, 1745, 1758, 1758, 1776, 1777, 1778, 1784, 1790, 1791, 1791], \"One Legged Moutain Pose\"), \n",
    "    ([1840, 1841, 1842, 1843, 1844, 1845, 1846, 1847, 1848, 1849, 1850, 1851, 1852], \"Easy Pose\"), \n",
    "    ([1873, 1874, 1875, 1876, 1877, 1878, 1879, 1880, 1881, 1882], \"Standing Side Bend Pose\"), \n",
    "    ([1891, 1892, 1893, 1901, 1901, 1903, 1904, 1915, 1916, 1917, 1918, 1919, 1920, 1921, 1922], \"King Pigeon Pose\"), \n",
    "    ([1927, 1928, 1932], \"Grasshopper Pose\"), \n",
    "    ([1929], \"Dragonfly Pose\"), \n",
    "    ([1930], \"Eight Angle Pose\"),\n",
    "    ([1934, 1970, 1971, 1972], \"One Legged Plank Pose\"), ([1939], \"Side Plank Pose\"), \n",
    "    ([1958, 1959, 1960, 1961, 1967, 1968, 1969], \"Forearm Plank Pose\"), \n",
    "    ([2173], \"Lotus Pose\"), \n",
    "    ([2188, 2189, 2190, 2191, 2192, 2193, 2194, 2195, 2196, 2197, 2198, 2199, 2200], \"Revolved Extended Side Angle Pose\"), \n",
    "    ([2189, 2195, 2196], \"Revolved High Lunge Pose\"), \n",
    "    ([2347, 2348, 2349, 2350, 2351, 2352, 2353, 2354, 2355, 2356, 2357, 2358, 2359, 2360, 2361, 2362, 2363, 2364, 2365, 2366, 2367, 2368], \"Skandasana\"),\n",
    "    ([2390, 2397], \"Anantasana\"), \n",
    "    ([2415, 2416, 2417, 2418, 2419, 2420, 2443], \"Visvamitrasana Pose\"), \n",
    "    ([2422, 2427, 2428, 2430, 2431, 2433, 2453, 2458, 2460], \"Side Plank Pose With Leg Variation\"), \n",
    "    ([2436, 2437, 2438, 2439, 2440, 2441], \"Forearm Side Plank Pose\"), \n",
    "    ([2465, 2466], \"Wild Thing Pose\"), \n",
    "    ([2482, 2483, 2484, 2486, 2487, 2488, 2489, 2480, 2492, 2493], \"Half Splits Pose\"), \n",
    "    ([2494], \"Standing Splits Pose\"), \n",
    "    ([2592, 2593, 2594], \"Firefly Pose\"), \n",
    "    ([2611, 2612, 2613, 2614, 2615, 2616, 2617, 2618, 2619, 2620, 2621], \"Forward Fold Pose With Halfway Lift\"), \n",
    "    ([2688, 2689, 2692, 2717], \"Bird Of Paradise Pose\"), \n",
    "    ([2700, 2701, 2703], \"Revolved Hand To Big Toe Pose\"), \n",
    "    ([2750, 2758], \"Half Sun Salutation\"), \n",
    "    ([2759], \"Second Half Of Sun Salutation\"), \n",
    "    ([2771, 2772], \"Banana Pose\"), \n",
    "    ([2795], \"Supine Spinal Twist Pose\"), \n",
    "    ([2797, 2798, 2833, 2848, 2849, 2850], \"Tiger Pose\"), \n",
    "    ([2799, 2816, 2827], \"Table Top Knee To Nose Flow\"), \n",
    "    ([2800, 2817], \"Child Pose Table Top Pose Flow\"), \n",
    "    ([2801, 2831, 2834, 2837, 2840, 2841, 2842], \"Table Top Pose With One Leg Extended Back\"), \n",
    "    ([2809, 2810, 2811, 2812, 2813, 2814, 2815], \"Revolved Table Top Pose\"), \n",
    "    ([2852, 2853, 2854, 2855], \"Table Top Balancing Pose, Opposite Arm and Leg Extended\"), \n",
    "    ([2968, 2972, 2983, 2974, 2975, 2976, 2977, 3005, 3006, 3007, 3008], \"Revolved Triangle Pose\"), \n",
    "    ([3023, 3024, 3025, 3026, 3031, 3032, 3038, 3039, 3040], \"Reverse Table Top Pose\"), \n",
    "    ([3037], \"Flip The Dog Pose\"), \n",
    "    ([3046, 3047, 3048, 3049, 3050, 3051, 3052, 3053, 3054, 3055, 3056, 3057, 3058, 3059, 3060, 3061, 3062, 3063], \"Anantasana\"), \n",
    "    ([3064, 3065, 3066, 3067, 3070, 3071, 3072, 3073, 3074, 3075, 3079], \"Warrior Pose I\"), \n",
    "    ([3068, 3069, 3076, 3077, 3078], \"Humble Warrior Pose\"), \n",
    "    ([3106, 3107, 3108, 3109, 3110, 3111, 3112, 3113, 3114, 3115, 3116, 3117, 3118, 3119, 3120, 3121], \"Warrior Pose II\"), \n",
    "    ([3122, 3123, 3124, 3125, 3126, 3127, 3128, 3129, 3130, 3131, 3132, 3133, 3134, 3135, 3136, 3137, 3138, 3139, 3140, 3141, 3142, 3143, 3144], \"Warrior Pose III\"), \n",
    "    ([3134], \"Shiva Squat Pose\"), \n",
    "    ([3131, 3132, 3133], \"Airplane Pose\"), \n",
    "    ([3181, 3182, 3183, 3184, 3185, 3186, 3187, 3188, 3189, 3190], \"Half Wind Release Pose\")]"
   ]
  },
  {
   "cell_type": "code",
   "execution_count": 8,
   "metadata": {},
   "outputs": [],
   "source": [
    "for i in changes:\n",
    "    base_poses.loc[i[0], \"Base Pose\"] = i[1]"
   ]
  },
  {
   "cell_type": "code",
   "execution_count": 9,
   "metadata": {},
   "outputs": [
    {
     "output_type": "execute_result",
     "data": {
      "text/plain": "170"
     },
     "metadata": {},
     "execution_count": 9
    }
   ],
   "source": [
    "len(base_poses[\"Base Pose\"].unique())"
   ]
  },
  {
   "cell_type": "markdown",
   "metadata": {},
   "source": [
    "I know have 170 distinct poses that I will be feeding to my neural net. Now creating a list of class data to feed to the neural net out of the base documents only:  "
   ]
  },
  {
   "cell_type": "code",
   "execution_count": 10,
   "metadata": {},
   "outputs": [],
   "source": [
    "base_documents = []\n",
    "for i in range(len(documents)):\n",
    "    temp_df = pd.DataFrame(documents[i], columns=[\"0\"])\n",
    "    temp_df = pd.merge(temp_df, base_poses, how=\"left\", left_on=\"0\", right_on=\"Pose Name\")\n",
    "    temp_df = temp_df.dropna(how=\"any\")\n",
    "    new_doc = [pose for pose in temp_df[\"Base Pose\"]]\n",
    "    base_documents.append(new_doc)"
   ]
  },
  {
   "cell_type": "markdown",
   "metadata": {},
   "source": [
    "# Determining Start and End Poses\n",
    "For the sake of class generation, since generation is starting with the user's desired most difficult pose in the middle of the class, I want the classes to not be generated to some arbitary pre-set length, but instead continue generating until converging to the natural start and end yoga poses of a class. Hence I am finding the most common start and end poses across all classes. "
   ]
  },
  {
   "cell_type": "code",
   "execution_count": 11,
   "metadata": {},
   "outputs": [],
   "source": [
    "first_poses = []\n",
    "for doc in base_documents:\n",
    "    if doc:\n",
    "        first_poses.append(doc[0])"
   ]
  },
  {
   "cell_type": "code",
   "execution_count": 12,
   "metadata": {
    "tags": []
   },
   "outputs": [],
   "source": [
    "last_poses = []\n",
    "for doc in base_documents:\n",
    "    if doc:\n",
    "        last_poses.append(doc[-1])"
   ]
  },
  {
   "cell_type": "code",
   "execution_count": 13,
   "metadata": {
    "tags": []
   },
   "outputs": [
    {
     "output_type": "stream",
     "name": "stdout",
     "text": "Easy Pose : 12182\nThunderbolt Pose : 743\nSun Salutation : 1764\nCorpse Pose : 5272\nTable Top Pose : 669\nLotus Pose : 433\nPranayama : 2099\nReclined Bound Angle Pose : 1207\nChild Pose : 2534\nCycling Pose : 326\n"
    }
   ],
   "source": [
    "for i in range(10):\n",
    "    print(list(Counter(first_poses).keys())[i], \":\", list(Counter(first_poses).values())[i])"
   ]
  },
  {
   "cell_type": "code",
   "execution_count": 14,
   "metadata": {
    "tags": []
   },
   "outputs": [
    {
     "output_type": "stream",
     "name": "stdout",
     "text": "Corpse Pose : 20486\nSide Lying Corpse Pose : 637\nDownward Facing Dog Pose : 684\nThunderbolt Pose : 193\nHalf Sun Salutation : 49\nThread The Needle Pose : 117\nRevolved Wide Legged Forward Fold : 32\nBridge Pose : 630\nPranayama : 971\nChair Pose : 280\n"
    }
   ],
   "source": [
    "for i in range(10):\n",
    "    print(list(Counter(last_poses).keys())[i], \":\", list(Counter(last_poses).values())[i])"
   ]
  },
  {
   "cell_type": "markdown",
   "metadata": {},
   "source": [
    "The vast majority of classes begin with easy pose (simple cross-legged seat, often for meditation). Pranayama which is also very high just means \"breathing\", which is not itself a \"pose\", but a breath technique which would commonly practiced while in sitting meditation (easy pose). By far the most common last pose is 'corpse pose', or final savasana, lying down meditation. \n",
    "\n",
    "Without even having done the above exploration, I would have been inclined to start the classes with 'easy pose' and end with 'corpse' pose just due to my personal experience with yoga, but now I have the empirical evidence to support that decision. "
   ]
  },
  {
   "cell_type": "markdown",
   "metadata": {},
   "source": [
    "# Word2Vec Embeddings\n",
    "I am using a custom word embedding model to find similarities between poses. I will then implement transfer learning, using this pre-trained word embedding model as my initial weights for the LSTM. "
   ]
  },
  {
   "cell_type": "code",
   "execution_count": 15,
   "metadata": {},
   "outputs": [],
   "source": [
    "embeddings = gensim.models.Word2Vec(base_documents, size=100, window=5, min_count=1, sg=1)"
   ]
  },
  {
   "cell_type": "code",
   "execution_count": 16,
   "metadata": {},
   "outputs": [
    {
     "output_type": "execute_result",
     "data": {
      "text/plain": "169"
     },
     "metadata": {},
     "execution_count": 16
    }
   ],
   "source": [
    "embeddings_size = len(list(embeddings.wv.vocab.items()))\n",
    "embeddings_size"
   ]
  },
  {
   "cell_type": "markdown",
   "metadata": {},
   "source": [
    "## Analyzing Embedding Accuracy"
   ]
  },
  {
   "cell_type": "code",
   "execution_count": 17,
   "metadata": {
    "tags": []
   },
   "outputs": [
    {
     "output_type": "stream",
     "name": "stdout",
     "text": "0.12278387\n0.12510684\n0.43913347\n0.7891281\n"
    }
   ],
   "source": [
    "print(embeddings.similarity(\"Corpse Pose\", \"Dancer Pose\"))\n",
    "print(embeddings.similarity(\"Corpse Pose\", \"Extended Side Angle Pose\"))\n",
    "print(embeddings.similarity(\"Corpse Pose\", \"Child Pose\"))\n",
    "print(embeddings.similarity(\"Corpse Pose\", \"Wind Release Pose\"))"
   ]
  },
  {
   "cell_type": "markdown",
   "metadata": {},
   "source": [
    "The above looks very accurate. When compared to 'corpse pose', which is lying down meditation, model indicates very little similarity to difficulty balancing and strength-heavy standing poses, mild similarity to an intense prone stretch pose, moderate similarity to a relaxation prone pose, and very high similarity to wind release pose, which often tends to be practiced immediately before corpse pose, and is also very easy and practiced while laying on the back. \n"
   ]
  },
  {
   "cell_type": "code",
   "execution_count": 18,
   "metadata": {},
   "outputs": [],
   "source": [
    "def analogy(worda, wordb, wordc):\n",
    "    result = embeddings.most_similar(negative=[worda], positive=[wordb, wordc])\n",
    "    return result[0][0]"
   ]
  },
  {
   "cell_type": "code",
   "execution_count": 19,
   "metadata": {},
   "outputs": [
    {
     "output_type": "execute_result",
     "data": {
      "text/plain": "'Table Top Balancing Pose, Opposite Arm and Leg Extended'"
     },
     "metadata": {},
     "execution_count": 19
    }
   ],
   "source": [
    "analogy(\"Downward Facing Dog Pose\", \"Three Legged Downward Facing Dog Pose\", \"Table Top Pose\")"
   ]
  },
  {
   "cell_type": "code",
   "execution_count": 20,
   "metadata": {},
   "outputs": [
    {
     "output_type": "execute_result",
     "data": {
      "text/plain": "'Palm Tree Pose'"
     },
     "metadata": {},
     "execution_count": 20
    }
   ],
   "source": [
    "analogy(\"Warrior Pose II\", \"Extended Side Angle Pose\", \"Mountain Pose\")"
   ]
  },
  {
   "cell_type": "code",
   "execution_count": 21,
   "metadata": {},
   "outputs": [
    {
     "output_type": "execute_result",
     "data": {
      "text/plain": "'Chair Pose'"
     },
     "metadata": {},
     "execution_count": 21
    }
   ],
   "source": [
    "analogy(\"Revolved Triangle Pose\", \"Triangle Pose\", \"Revolved Chair Pose\")"
   ]
  },
  {
   "cell_type": "markdown",
   "metadata": {},
   "source": [
    "The above analogies also indicate that the embeddings model has picked up a good deal of nuanced meaning about the poses. When down dog to a balancing version of downdog is compared to table top, it offers a balancing version of table top. When an arms extended version of warrior II is compared to mountain pose, it offers an arms extended version of mountain (palm tree). When a revolved version of triangle and regular triangle is compared to a revolved version of chair, it offers regular chair. Wonderful! \n",
    "\n",
    "Saving the embeddings as a matrix for use in the neural net: "
   ]
  },
  {
   "cell_type": "code",
   "execution_count": 22,
   "metadata": {},
   "outputs": [],
   "source": [
    "embedding_matrix = np.zeros((len(embeddings.wv.vocab)+1, 100))\n",
    "for i in range(len(embeddings.wv.vocab)):\n",
    "    embedding_vector = embeddings.wv[embeddings.wv.index2word[i]]\n",
    "    if embedding_vector is not None:\n",
    "        embedding_matrix[i] = embedding_vector"
   ]
  },
  {
   "cell_type": "code",
   "execution_count": 23,
   "metadata": {},
   "outputs": [],
   "source": [
    "embedding_dim = embeddings.vector_size"
   ]
  },
  {
   "cell_type": "markdown",
   "metadata": {},
   "source": [
    "# Bi-Directional LSTM Neural Network\n",
    "\n",
    "## Tokenization\n"
   ]
  },
  {
   "cell_type": "code",
   "execution_count": 24,
   "metadata": {
    "tags": []
   },
   "outputs": [
    {
     "output_type": "stream",
     "name": "stdout",
     "text": "Total tokens:  1624681\nUnique tokens:  169\n"
    }
   ],
   "source": [
    "tokens = [pose for yogaclass in base_documents for pose in yogaclass]\n",
    "print(\"Total tokens: \", len(tokens))\n",
    "print(\"Unique tokens: \", len(set(tokens)))"
   ]
  },
  {
   "cell_type": "markdown",
   "metadata": {},
   "source": [
    "## Input Sequences\n",
    "I am training the network on an input sequence length of 3 poses, where it will then learn the expected fourth pose. This small input sequence length size is ideal for seeing all the poses in many many contexts, and allows for easy generation from a selected single base pose. "
   ]
  },
  {
   "cell_type": "code",
   "execution_count": 26,
   "metadata": {
    "tags": []
   },
   "outputs": [
    {
     "output_type": "stream",
     "name": "stdout",
     "text": "Total Sequences: 1624677\n"
    }
   ],
   "source": [
    "length = 3 + 1\n",
    "sequences = list()\n",
    "for i in range(length, len(tokens)):\n",
    "    seq = tokens[i-length:i]\n",
    "    sequences.append(seq)\n",
    "print(\"Total Sequences:\", len(sequences))"
   ]
  },
  {
   "cell_type": "code",
   "execution_count": 27,
   "metadata": {
    "tags": []
   },
   "outputs": [
    {
     "output_type": "stream",
     "name": "stdout",
     "text": "Vocab Size: 170\n"
    }
   ],
   "source": [
    "tokenizer = Tokenizer()\n",
    "tokenizer.fit_on_texts(sequences)\n",
    "token_sequences = tokenizer.texts_to_sequences(sequences)\n",
    "vocab_size = len(tokenizer.word_index) + 1\n",
    "print(\"Vocab Size:\", vocab_size)"
   ]
  },
  {
   "cell_type": "code",
   "execution_count": 28,
   "metadata": {},
   "outputs": [],
   "source": [
    "X = np.asarray([np.asarray(x[:-1]) for x in token_sequences])\n",
    "y = [y[-1] for y in token_sequences]\n",
    "y = to_categorical(y, num_classes=vocab_size)\n",
    "seq_length=len(X[1])"
   ]
  },
  {
   "cell_type": "markdown",
   "metadata": {},
   "source": [
    "## Neural Net Architecture \n",
    "My choice of deep learning model is a bi-directional LSTM. This is the ideal choice for my purposes. \n",
    "\n",
    "Long Short-Term Memory NNs are considered the best performing models for sequence prediction, and are excellent for text generation -- and I am, in this project, doing both. I am generating text that is a sequence of yoga poses that should go in a fairly specific order in order to be safe and comprise a good class. \n",
    "\n",
    "A bi-directional LSTM is an even more ideal choice -- Since I am generating my classes from the middle (peak pose) out, I essentially need to predict and generate half of the from the peak to the end in a forward direction, and the other half of the sequence from the peak to the beginning in a backwards direction. A bi-directional LSTM is uniquely poised to allow me to do this -- by providing the input sequence to each layer twice, once as is and once reversed, and then concatenating the outputs -- the msdel has twice as much context about each pose, and is then able to predict what pose would *precede* a given sequence, as well as follow it. \n",
    "\n",
    "I begin with using transfer learning, initializing my weights with my word embeddings model, of which I set trainable to 'False' so that back propagation does not change the embeddings themselves. I have chosen after some experimentation to then use 3 hidden bidirectional LSTM layers of a size roughly comparable to my vocabulary, with dropout layers between each. I then have 2 activation layers, the first using RELU as the activation function and the second using softmax, as any form of sequence/text prediction is categorized as a multi-class classification problem. \n",
    "\n",
    "I train the model with a modest batch size of 128 (given the 1.6mil input sequences), over 100 epochs, using the adam optimizer. "
   ]
  },
  {
   "cell_type": "code",
   "execution_count": 50,
   "metadata": {
    "tags": []
   },
   "outputs": [],
   "source": [
    "def create_model():\n",
    "    model = Sequential()\n",
    "    model.add(Embedding(vocab_size, embedding_dim, weights=[embedding_matrix], trainable=False))\n",
    "    model.add(Bidirectional(LSTM(200, return_sequences=True)))\n",
    "    model.add(Dropout(0.05))\n",
    "    model.add(Bidirectional(LSTM(200, return_sequences=True)))\n",
    "    model.add(Dropout(0.05))\n",
    "    model.add(Bidirectional(LSTM(200)))\n",
    "    model.add(Dropout(0.05))\n",
    "    model.add(Dense(100, activation=\"relu\"))\n",
    "    model.add(Dense(vocab_size, activation=\"softmax\"))\n",
    "    print(model.summary())\n",
    "    return model"
   ]
  },
  {
   "cell_type": "code",
   "execution_count": 51,
   "metadata": {},
   "outputs": [],
   "source": [
    "def fit_model(model, X, y):\n",
    "    model.compile(loss='categorical_crossentropy', optimizer='adam', metrics=['accuracy'])\n",
    "    model.fit(X, y, batch_size=128, epochs=100, verbose=10)"
   ]
  },
  {
   "cell_type": "code",
   "execution_count": 53,
   "metadata": {
    "tags": []
   },
   "outputs": [
    {
     "output_type": "stream",
     "name": "stdout",
     "text": "Model: \"sequential_1\"\n_________________________________________________________________\nLayer (type)                 Output Shape              Param #   \n=================================================================\nembedding_1 (Embedding)      (None, None, 100)         17000     \n_________________________________________________________________\nbidirectional_3 (Bidirection (None, None, 400)         481600    \n_________________________________________________________________\ndropout_3 (Dropout)          (None, None, 400)         0         \n_________________________________________________________________\nbidirectional_4 (Bidirection (None, None, 400)         961600    \n_________________________________________________________________\ndropout_4 (Dropout)          (None, None, 400)         0         \n_________________________________________________________________\nbidirectional_5 (Bidirection (None, 400)               961600    \n_________________________________________________________________\ndropout_5 (Dropout)          (None, 400)               0         \n_________________________________________________________________\ndense_2 (Dense)              (None, 100)               40100     \n_________________________________________________________________\ndense_3 (Dense)              (None, 170)               17170     \n=================================================================\nTotal params: 2,479,070\nTrainable params: 2,462,070\nNon-trainable params: 17,000\n_________________________________________________________________\nNone\n"
    }
   ],
   "source": [
    "lstm_model = create_model()"
   ]
  },
  {
   "cell_type": "code",
   "execution_count": 185,
   "metadata": {
    "tags": []
   },
   "outputs": [
    {
     "output_type": "stream",
     "name": "stdout",
     "text": "Epoch 1/100\nEpoch 2/100\nEpoch 3/100\nEpoch 4/100\nEpoch 5/100\nEpoch 6/100\nEpoch 7/100\nEpoch 8/100\nEpoch 9/100\nEpoch 10/100\nEpoch 11/100\nEpoch 12/100\nEpoch 13/100\nEpoch 14/100\nEpoch 15/100\nEpoch 16/100\nEpoch 17/100\nEpoch 18/100\nEpoch 19/100\nEpoch 20/100\nEpoch 21/100\nEpoch 22/100\nEpoch 23/100\nEpoch 24/100\nEpoch 25/100\nEpoch 26/100\nEpoch 27/100\nEpoch 28/100\nEpoch 29/100\nEpoch 30/100\nEpoch 31/100\nEpoch 32/100\nEpoch 33/100\nEpoch 34/100\nEpoch 35/100\nEpoch 36/100\nEpoch 37/100\nEpoch 38/100\nEpoch 39/100\nEpoch 40/100\nEpoch 41/100\nEpoch 42/100\nEpoch 43/100\nEpoch 44/100\nEpoch 45/100\nEpoch 46/100\nEpoch 47/100\nEpoch 48/100\nEpoch 49/100\nEpoch 50/100\nEpoch 51/100\nEpoch 52/100\nEpoch 53/100\nEpoch 54/100\nEpoch 55/100\nEpoch 56/100\nEpoch 57/100\nEpoch 58/100\nEpoch 59/100\nEpoch 60/100\nEpoch 61/100\nEpoch 62/100\nEpoch 63/100\nEpoch 64/100\nEpoch 65/100\nEpoch 66/100\nEpoch 67/100\nEpoch 68/100\nEpoch 69/100\nEpoch 70/100\nEpoch 71/100\nEpoch 72/100\nEpoch 73/100\nEpoch 74/100\nEpoch 75/100\nEpoch 76/100\nEpoch 77/100\nEpoch 78/100\nEpoch 79/100\nEpoch 80/100\nEpoch 81/100\nEpoch 82/100\nEpoch 83/100\nEpoch 84/100\nEpoch 85/100\nEpoch 86/100\nEpoch 87/100\nEpoch 88/100\nEpoch 89/100\nEpoch 90/100\nEpoch 91/100\nEpoch 92/100\nEpoch 93/100\nEpoch 94/100\nEpoch 95/100\nEpoch 96/100\nEpoch 97/100\nEpoch 98/100\nEpoch 99/100\nEpoch 100/100\n"
    }
   ],
   "source": [
    "fit_model(lstm_model, X, y)"
   ]
  },
  {
   "cell_type": "code",
   "execution_count": 55,
   "metadata": {},
   "outputs": [],
   "source": [
    "# lstm_model.save('model.h5')"
   ]
  },
  {
   "cell_type": "code",
   "execution_count": 25,
   "metadata": {},
   "outputs": [],
   "source": [
    "model = load_model('model.h5', compile=False)"
   ]
  },
  {
   "cell_type": "markdown",
   "metadata": {},
   "source": [
    "# Yoga Class Generation \n",
    "\n",
    "Here I define a function for generating a yoga class from the trained neural network. \n",
    "\n",
    "From the user's chosen peak pose, I create a seed text of input length 3 (NN's input sequence length) by randomly selecting 2 out of top 10 most related poses to the peak pose via the word embeddings model. \n",
    "\n",
    "Rather than end when reaching some arbitrary pre-defined length, I instead allow the class to coninue generating until it naturally converges upon the logical entry and exit poses to a yoga class, 'easy pose' and 'corpse pose', respectively. \n",
    "\n",
    "As the class grows, I chose not to continuously trip and pad the sequence to be only 3 poses long, because I found that the quality and logic of the classes being created was improved when allowing the input to grow. \n",
    "\n",
    "The neural net is typically very good at repeating a pose twice in the sequence if it is an imbalanced pose -- i.e. if it is non-symmetrical across both sides of the body, it should be repeated once for each side of the body. If a pose is repeated, I hence manually add clarification text for user to repeat the pose on the other side. "
   ]
  },
  {
   "cell_type": "code",
   "execution_count": 52,
   "metadata": {},
   "outputs": [],
   "source": [
    "def generate_class(model, tokenizer, word_embedding, peak_pose, stop_word, max_length):\n",
    "\n",
    "    # generate seed text\n",
    "    seed_text = [peak_pose, word_embedding.most_similar(peak_pose, topn=10)[np.random.choice(range(10))][0], word_embedding.most_similar(peak_pose, topn=10)[np.random.choice(range(10))][0]]\n",
    "    in_text = seed_text\n",
    "\n",
    "    # create yoga class, explicitly including user's desired peak pose\n",
    "    yoga_class = list()\n",
    "    yoga_class.append(peak_pose.lower())\n",
    "\n",
    "    # generate sequence \n",
    "    while True:\n",
    "        encoded = tokenizer.texts_to_sequences([in_text])\n",
    "\n",
    "        # select next pose integer based on models probability distribution\n",
    "        prediction_output = model.predict(encoded)\n",
    "        yhat = np.random.choice(len(prediction_output[0]), p=prediction_output[0])\n",
    "\n",
    "        # find pose in dictionary \n",
    "        out_word = \"\"\n",
    "        for word, index in tokenizer.word_index.items():\n",
    "            if index == yhat:\n",
    "                out_word = word\n",
    "                break\n",
    "        \n",
    "        # append pose to current class, and update input text\n",
    "        # add 'repeat other side' text on duplicate poses\n",
    "        # converge to start and stop poses \n",
    "        if out_word != \"\":\n",
    "            in_text.append(out_word)\n",
    "            if out_word == yoga_class[-1]:\n",
    "                if stop_word == \"easy pose\":\n",
    "                    yoga_class[-1] += \", repeat other side\"\n",
    "                    yoga_class.append(out_word)\n",
    "                if stop_word == \"corpse pose\":\n",
    "                    out_word += \", repeat other side\"\n",
    "                    yoga_class.append(out_word)\n",
    "            else: \n",
    "                yoga_class.append(out_word)\n",
    "        if out_word == stop_word:\n",
    "            break\n",
    "\n",
    "\n",
    "        # if sequence gets too long without converging to ending, start over and try again. \n",
    "        if len(yoga_class) == max_length:\n",
    "                in_text = seed_text\n",
    "                yoga_class = [peak_pose.lower()]\n",
    "\n",
    "    yoga_class = [i.title() for i in yoga_class]\n",
    "    return yoga_class"
   ]
  },
  {
   "cell_type": "markdown",
   "metadata": {},
   "source": [
    "# Defining Peak Poses \n",
    "Here I define a list of possible peak poses for the user to choose from. I further break them down into their difficulty level, so that the user can select a pose that suits their ability. "
   ]
  },
  {
   "cell_type": "code",
   "execution_count": 30,
   "metadata": {},
   "outputs": [],
   "source": [
    "possible_peak_poses = ['Center Splits Pose', 'Hurdlers Pose', 'Revolved Chair Pose', 'Figure Four Pose', 'Crane Pose', 'Flying Pigeon Pose', 'Side Crow Pose', 'Baby Crow Pose', 'Crow Pose', 'Dancer Pose', 'Eagle Pose', 'Feathered Peacock Pose', 'Scorpion Pose', 'Flamingo Pose', 'Foot Behind The Head Pose', 'Half Moon Pose', 'Handstand Pose', 'Headstand Pose', 'Headstand Pose Eagle Legs', 'Headstand Pose Lotus Legs', 'Headstand Pose Wide Legs', 'Tripod Headstand Pose', 'Revolved High Lunge Pose', 'Pyramid Pose', 'Flying Lizard Pose', 'Palm Tree Pose', 'King Pigeon Pose', 'Grasshopper Pose', 'Dragonfly Pose', 'Eight Angle Pose', 'Revolved Extended Side Angle Pose', 'Visvamitrasana Pose', 'Splits Pose', 'Firefly Pose', 'Bird Of Paradise Pose', 'Standing Hand To Big Toe Pose', 'Revolved Hand To Big Toe Pose', 'Tree Pose', 'Warrior Pose I', 'Humble Warrior Pose', 'Warrior Pose II', 'Warrior Pose III', 'Airplane Pose', 'Wheel Pose']"
   ]
  },
  {
   "cell_type": "code",
   "execution_count": 31,
   "metadata": {},
   "outputs": [],
   "source": [
    "pose_levels = poses_info[[\"Pose Name\", \"Level\"]]"
   ]
  },
  {
   "cell_type": "code",
   "execution_count": 32,
   "metadata": {},
   "outputs": [],
   "source": [
    "peak_df = pd.DataFrame(possible_peak_poses, columns=[\"Peak Pose\"])"
   ]
  },
  {
   "cell_type": "code",
   "execution_count": 33,
   "metadata": {},
   "outputs": [],
   "source": [
    "peak_levels = pd.merge(left=peak_df, right=pose_levels, how=\"left\", left_on=\"Peak Pose\", right_on=\"Pose Name\")[[\"Peak Pose\", \"Level\"]]"
   ]
  },
  {
   "cell_type": "code",
   "execution_count": 34,
   "metadata": {},
   "outputs": [
    {
     "output_type": "execute_result",
     "data": {
      "text/plain": "             Peak Pose     Level\n0   Center Splits Pose  Advanced\n1        Hurdlers Pose       NaN\n2  Revolved Chair Pose  Beginner\n3     Figure Four Pose       NaN\n4           Crane Pose  Advanced",
      "text/html": "<div>\n<style scoped>\n    .dataframe tbody tr th:only-of-type {\n        vertical-align: middle;\n    }\n\n    .dataframe tbody tr th {\n        vertical-align: top;\n    }\n\n    .dataframe thead th {\n        text-align: right;\n    }\n</style>\n<table border=\"1\" class=\"dataframe\">\n  <thead>\n    <tr style=\"text-align: right;\">\n      <th></th>\n      <th>Peak Pose</th>\n      <th>Level</th>\n    </tr>\n  </thead>\n  <tbody>\n    <tr>\n      <th>0</th>\n      <td>Center Splits Pose</td>\n      <td>Advanced</td>\n    </tr>\n    <tr>\n      <th>1</th>\n      <td>Hurdlers Pose</td>\n      <td>NaN</td>\n    </tr>\n    <tr>\n      <th>2</th>\n      <td>Revolved Chair Pose</td>\n      <td>Beginner</td>\n    </tr>\n    <tr>\n      <th>3</th>\n      <td>Figure Four Pose</td>\n      <td>NaN</td>\n    </tr>\n    <tr>\n      <th>4</th>\n      <td>Crane Pose</td>\n      <td>Advanced</td>\n    </tr>\n  </tbody>\n</table>\n</div>"
     },
     "metadata": {},
     "execution_count": 34
    }
   ],
   "source": [
    "peak_levels.head()"
   ]
  },
  {
   "cell_type": "markdown",
   "metadata": {},
   "source": [
    "Since I added some custom variations to poses, there will be some NaN values as seen above. As such, I'll have to manually add in their difficulty levels using industry knowledge: \n"
   ]
  },
  {
   "cell_type": "code",
   "execution_count": 35,
   "metadata": {},
   "outputs": [],
   "source": [
    "more_levels = [([1], \"Advanced\"), ([3], \"Beginner\"), ([14], \"Advanced\"), ([21], \"Intermediate\"), ([23], \"Beginner\"), ([26], \"Advanced\"), ([27], \"Advanced\"), ([28], \"Advanced\"), ([30], \"Intermediate\"), ([31], \"Advanced\"), ([34], \"Advanced\"), ([35], \"Intermediate\"), ([36], \"Intermediate\")]"
   ]
  },
  {
   "cell_type": "code",
   "execution_count": 36,
   "metadata": {},
   "outputs": [],
   "source": [
    "for i in more_levels:\n",
    "    peak_levels.loc[i[0], \"Level\"] = i[1]"
   ]
  },
  {
   "cell_type": "code",
   "execution_count": 37,
   "metadata": {},
   "outputs": [
    {
     "output_type": "execute_result",
     "data": {
      "text/plain": "             Peak Pose     Level\n0   Center Splits Pose  Advanced\n1        Hurdlers Pose  Advanced\n2  Revolved Chair Pose  Beginner\n3     Figure Four Pose  Beginner\n4           Crane Pose  Advanced",
      "text/html": "<div>\n<style scoped>\n    .dataframe tbody tr th:only-of-type {\n        vertical-align: middle;\n    }\n\n    .dataframe tbody tr th {\n        vertical-align: top;\n    }\n\n    .dataframe thead th {\n        text-align: right;\n    }\n</style>\n<table border=\"1\" class=\"dataframe\">\n  <thead>\n    <tr style=\"text-align: right;\">\n      <th></th>\n      <th>Peak Pose</th>\n      <th>Level</th>\n    </tr>\n  </thead>\n  <tbody>\n    <tr>\n      <th>0</th>\n      <td>Center Splits Pose</td>\n      <td>Advanced</td>\n    </tr>\n    <tr>\n      <th>1</th>\n      <td>Hurdlers Pose</td>\n      <td>Advanced</td>\n    </tr>\n    <tr>\n      <th>2</th>\n      <td>Revolved Chair Pose</td>\n      <td>Beginner</td>\n    </tr>\n    <tr>\n      <th>3</th>\n      <td>Figure Four Pose</td>\n      <td>Beginner</td>\n    </tr>\n    <tr>\n      <th>4</th>\n      <td>Crane Pose</td>\n      <td>Advanced</td>\n    </tr>\n  </tbody>\n</table>\n</div>"
     },
     "metadata": {},
     "execution_count": 37
    }
   ],
   "source": [
    "peak_levels.head()"
   ]
  },
  {
   "cell_type": "code",
   "execution_count": 38,
   "metadata": {},
   "outputs": [],
   "source": [
    "peak_beg = peak_levels.loc[peak_levels[\"Level\"] == \"Beginner\"]\n",
    "peak_int = peak_levels.loc[peak_levels[\"Level\"] == \"Intermediate\"]\n",
    "peak_adv = peak_levels.loc[peak_levels[\"Level\"] == \"Advanced\"]"
   ]
  },
  {
   "cell_type": "code",
   "execution_count": 39,
   "metadata": {},
   "outputs": [],
   "source": [
    "peak_pose_dict = dict()\n",
    "\n",
    "peak_pose_dict[\"Beginner\"] = list(peak_beg[\"Peak Pose\"])\n",
    "peak_pose_dict[\"Intermediate\"] = list(peak_int[\"Peak Pose\"])\n",
    "peak_pose_dict[\"Advanced\"] = list(peak_adv[\"Peak Pose\"])"
   ]
  },
  {
   "cell_type": "markdown",
   "metadata": {},
   "source": [
    "# Sample Class Generation"
   ]
  },
  {
   "cell_type": "code",
   "execution_count": 40,
   "metadata": {},
   "outputs": [],
   "source": [
    "def random_peak():\n",
    "    peak_pose = np.random.choice(possible_peak_poses)\n",
    "    return peak_pose"
   ]
  },
  {
   "cell_type": "code",
   "execution_count": 41,
   "metadata": {},
   "outputs": [
    {
     "output_type": "execute_result",
     "data": {
      "text/plain": "'Standing Hand To Big Toe Pose'"
     },
     "metadata": {},
     "execution_count": 41
    }
   ],
   "source": [
    "peak_pose = random_peak()\n",
    "peak_pose"
   ]
  },
  {
   "cell_type": "code",
   "execution_count": 54,
   "metadata": {
    "tags": []
   },
   "outputs": [],
   "source": [
    "def yoga_class(peak_pose):\n",
    "    first_half = generate_class(model, tokenizer, embeddings, peak_pose, \"easy pose\", 40)[::-1]\n",
    "    second_half = generate_class(model, tokenizer, embeddings, peak_pose, \"corpse pose\", 40)\n",
    "    yoga_class = first_half + second_half\n",
    "    return yoga_class"
   ]
  },
  {
   "cell_type": "code",
   "execution_count": 61,
   "metadata": {},
   "outputs": [],
   "source": [
    "yoga_class_1 = yoga_class(peak_pose)"
   ]
  },
  {
   "cell_type": "code",
   "execution_count": 62,
   "metadata": {},
   "outputs": [
    {
     "output_type": "execute_result",
     "data": {
      "text/plain": "['Easy Pose',\n 'Garland Pose',\n 'Dolphin Pose',\n 'Camel Pose',\n 'Seated Forward Bend Pose',\n 'Warrior Pose Ii',\n 'Half Lord Of The Fishes Pose',\n 'Wide Legged Forward Fold',\n 'Wide Legged Forward Fold, Repeat Other Side',\n 'Cow Face Pose',\n 'Cow Face Pose, Repeat Other Side',\n 'Cow Face Pose, Repeat Other Side',\n 'Wind Release Pose',\n 'Bound Angle Pose',\n 'Wild Thing Pose',\n 'Seated Straddle Pose',\n 'Happy Baby Pose',\n 'Standing Hand To Big Toe Pose',\n 'Standing Hand To Big Toe Pose',\n 'Plank Pose',\n 'Downward Facing Dog Pose Knee To Nose',\n 'Standing Splits Pose',\n 'Half Moon Pose',\n 'Warrior Pose Ii',\n 'Triangle Pose',\n 'Extended Side Angle Pose',\n 'Cobra Pose',\n 'Locust Pose',\n 'Locust Pose, Repeat Other Side',\n 'Downward Facing Dog Pose',\n 'Chair Pose',\n 'Boat Pose',\n 'Cycling Pose',\n 'Cycling Pose, Repeat Other Side',\n 'Corpse Pose']"
     },
     "metadata": {},
     "execution_count": 62
    }
   ],
   "source": [
    "yoga_class_1"
   ]
  },
  {
   "cell_type": "markdown",
   "metadata": {},
   "source": [
    "# Analysis \n",
    "\n",
    "Above is seen a yoga class generated around the input peak pose \"Standing Hand to Big Toe Pose\", a pose which involves standing on one leg with the other leg lifted at a 90 degree angle and the hand holding the big toe of the outstretched leg. It is an intermedate posture which involved leg strength, hamstring flexibility, and core strength. \n",
    "\n",
    "The class generated does a good job of captured the intended \"arc\" of a yoga class -- from easy, slower entry poses in seated and laying down positions, to slightly more difficult poses to warm up the body done on a mid-level plane such as lunging, to difficult standing and balancing postures, then back down incrementally, eventually all the way to final resting pose, \"corpse pose\". \n",
    "\n",
    "After generating and observing many example sequences, I saw the following strengths across most the examples: \n",
    "* Definitely captures the intended arc of a yoga class\n",
    "* Good at repeating poses when they are imbalanced (one sided)\n",
    "* Creates classes with an overall length and difficulty level that correlates to the difficulty of the chosen peak pose \n",
    "* Fairly good at including the right preparatory poses to warm up the key muscle groups of the peak pose\n",
    "\n",
    "# Future Work\n",
    "\n",
    "Before this app is ready to take to the market, it will need the following improvements: \n",
    "* Dynamic rendering of Unity interface -- I will be rendering the below example class for users to follow along with as a proof of concept using the Unity game engine. The eventual intention is that the class created live and custom for the user via the neural network will be dynamically animated for them to take. \n",
    "* Improved consistency of output. There's too much variability right now with it sometimes giving less good sequences with really random poses showing up in orders they shouldn't. \n",
    "* More pose variations -- include all variations, instead of only base poses and a few key variations. \n",
    "* Embedding information of muscle groups -- I'd love to be able to include this for additional safety, rather than just the context of poses showing up around other poses. \n",
    "\n"
   ]
  },
  {
   "cell_type": "markdown",
   "metadata": {},
   "source": [
    "# Creating Class for Animation"
   ]
  },
  {
   "cell_type": "code",
   "execution_count": 96,
   "metadata": {},
   "outputs": [],
   "source": [
    "example_class = yoga_class(\"Dancer Pose\")"
   ]
  },
  {
   "cell_type": "code",
   "execution_count": 97,
   "metadata": {},
   "outputs": [
    {
     "output_type": "execute_result",
     "data": {
      "text/plain": "['Easy Pose',\n 'Corpse Pose',\n 'Side Lying Corpse Pose',\n 'Side Lying Corpse Pose, Repeat Other Side',\n 'Wind Release Pose',\n 'Plough Pose',\n 'Shoulderstand Pose',\n 'Seated Straddle Pose',\n 'Torso Stretch Pose',\n 'Puppy Dog Pose',\n 'Downward Facing Dog Pose',\n 'Plank Pose',\n 'Boat Pose',\n 'Wind Release Pose',\n 'Supine Spinal Twist Pose',\n 'Shoulderstand Pose',\n 'Plough Pose',\n 'Wind Release Pose',\n 'Reclined Bound Angle Pose',\n 'Squat Pose',\n 'Pranayama',\n 'Puppy Dog Pose',\n 'Headstand Pose',\n 'Crow Pose',\n 'Pyramid Pose',\n 'Half Moon Pose',\n 'Pyramid Pose',\n 'Half Moon Pose',\n 'Warrior Pose Ii',\n 'Extended Side Angle Pose',\n 'Warrior Pose Ii',\n 'Dancer Pose',\n 'Dancer Pose',\n 'Pigeon Pose',\n 'King Pigeon Pose',\n 'Child Pose',\n 'Easy Pose',\n 'Head To Knee Pose',\n 'High Boat To Low Boat Flow',\n 'Legs Up The Wall Pose',\n 'Shoulderstand Pose',\n 'Shoulderstand Pose, Repeat Other Side',\n 'Shoulderstand Pose',\n 'Plough Pose',\n 'Fish Pose',\n 'Corpse Pose']"
     },
     "metadata": {},
     "execution_count": 97
    }
   ],
   "source": [
    "example_class"
   ]
  },
  {
   "cell_type": "markdown",
   "metadata": {},
   "source": [
    "Specifically, for the sake of demonstration time, I'm going to animate the middle section surround the peak pose (it will be the most visually interesting):\n",
    "* 'Crow Pose',\n",
    "* 'Pyramid Pose',\n",
    "* 'Half Moon Pose',\n",
    "* 'Pyramid Pose',\n",
    "* 'Half Moon Pose',\n",
    "* 'Warrior Pose Ii',\n",
    "* 'Extended Side Angle Pose',\n",
    "* 'Warrior Pose Ii',\n",
    "* 'Dancer Pose',\n",
    "* 'Dancer Pose',\n",
    "* 'Pigeon Pose',\n",
    "* 'King Pigeon Pose',\n",
    "* 'Child Pose',\n",
    "* 'Easy Pose',\n",
    "* 'Head To Knee Pose',\n",
    "* 'High Boat To Low Boat Flow',\n",
    "* 'Legs Up The Wall Pose',\n",
    "* 'Shoulderstand Pose'"
   ]
  },
  {
   "cell_type": "markdown",
   "metadata": {},
   "source": [
    "# Pickling\n",
    "Saving all the models and functions for use in flask app. "
   ]
  },
  {
   "cell_type": "code",
   "execution_count": 48,
   "metadata": {},
   "outputs": [],
   "source": [
    "f = open(\"word_embeddings.pkl\", \"wb\")\n",
    "pickle.dump(embeddings, f)\n",
    "f.close()\n",
    "\n",
    "f = open(\"tokenizer.pkl\", \"wb\")\n",
    "pickle.dump(tokenizer, f)\n",
    "f.close\n",
    "\n",
    "f = open(\"peak_poses.pkl\", \"wb\")\n",
    "pickle.dump(possible_peak_poses, f)\n",
    "f.close()\n",
    "\n",
    "f = open(\"peak_pose_dict.pkl\", \"wb\")\n",
    "pickle.dump(peak_pose_dict, f)\n",
    "f.close()"
   ]
  },
  {
   "cell_type": "code",
   "execution_count": null,
   "metadata": {},
   "outputs": [],
   "source": []
  }
 ]
}